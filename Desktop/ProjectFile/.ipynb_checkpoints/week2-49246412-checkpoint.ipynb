{
 "cells": [
  {
   "cell_type": "markdown",
   "id": "1f57be29-b48f-411b-bc31-77f60072bb48",
   "metadata": {},
   "source": [
    "# 第2回課題"
   ]
  },
  {
   "cell_type": "markdown",
   "id": "29350aca-b956-48cb-b218-8ca0ff7ac9d6",
   "metadata": {
    "jp-MarkdownHeadingCollapsed": true
   },
   "source": [
    "## 課題１"
   ]
  },
  {
   "cell_type": "code",
   "execution_count": 11,
   "id": "6fe54e45-69d0-4748-a4a4-e6ccd77a92f6",
   "metadata": {},
   "outputs": [
    {
     "data": {
      "text/plain": [
       "True"
      ]
     },
     "execution_count": 11,
     "metadata": {},
     "output_type": "execute_result"
    }
   ],
   "source": [
    "def in_rectangle(w, h, x, y, r):\n",
    "    left = x - r\n",
    "    right = x + r\n",
    "    bottom = y - r\n",
    "    top = y + r\n",
    "    \n",
    "    # 条件\n",
    "    if left >= 0 and right <= w and bottom >= 0 and top <= h:\n",
    "        return True\n",
    "    else:\n",
    "        return False\n",
    "\n",
    "# 例\n",
    "in_rectangle(10, 10, 5, 5, 4)"
   ]
  },
  {
   "cell_type": "markdown",
   "id": "d5426dc7-f15d-4af5-a251-69e51200e7e5",
   "metadata": {
    "jp-MarkdownHeadingCollapsed": true
   },
   "source": [
    "## 課題２"
   ]
  },
  {
   "cell_type": "code",
   "execution_count": 12,
   "id": "aa9dfc25-9395-4788-9b20-1edfd86496be",
   "metadata": {},
   "outputs": [
    {
     "data": {
      "text/plain": [
       "'120:5:22'"
      ]
     },
     "execution_count": 12,
     "metadata": {},
     "output_type": "execute_result"
    }
   ],
   "source": [
    "def watch(s):\n",
    "    hours = s // 3600\n",
    "    minutes = (s % 3600) // 60\n",
    "    seconds = s % 60\n",
    "    \n",
    "    return f\"{hours}:{minutes}:{seconds}\"\n",
    "\n",
    "# 例の検証\n",
    "watch(432322)"
   ]
  },
  {
   "cell_type": "markdown",
   "id": "5b94ae89-f1ba-4efc-855d-448bc3b0d235",
   "metadata": {},
   "source": [
    "## 課題3"
   ]
  },
  {
   "cell_type": "code",
   "execution_count": 13,
   "id": "dc8bcafd-87c8-4d94-822a-f0033a8879e5",
   "metadata": {},
   "outputs": [
    {
     "data": {
      "text/plain": [
       "'t8y'"
      ]
     },
     "execution_count": 13,
     "metadata": {},
     "output_type": "execute_result"
    }
   ],
   "source": [
    "def abbreviate(word):\n",
    "    # 先頭の文字\n",
    "    first_char = word[0]\n",
    "    # 文字列全体の長さ\n",
    "    middle_num = len(word) - 2\n",
    "    # 最後の文字\n",
    "    last_char = word[-1]\n",
    "    \n",
    "    # 3つの部分を結合して返す\n",
    "    return f\"{first_char}{middle_num}{last_char}\"\n",
    "\n",
    "#test\n",
    "abbreviate(\"technology\")"
   ]
  },
  {
   "cell_type": "markdown",
   "id": "f5834d82-3a70-4b9e-8b70-85c75c0277f5",
   "metadata": {},
   "source": [
    "## 課題4"
   ]
  },
  {
   "cell_type": "code",
   "execution_count": 15,
   "id": "d05ef689-5bdb-430f-9c5c-3ba2bf208586",
   "metadata": {},
   "outputs": [
    {
     "data": {
      "text/plain": [
       "True"
      ]
     },
     "execution_count": 15,
     "metadata": {},
     "output_type": "execute_result"
    }
   ],
   "source": [
    "def issueCC(dt, dl, ic):\n",
    "    \n",
    "    #　まずdtとdlなしの判断から\n",
    "    if dt <= 20:  \n",
    "        if dl == 0:  \n",
    "            return True\n",
    "        else:  \n",
    "            return False\n",
    "\n",
    "    # dtが20％超え\n",
    "    else:  \n",
    "        if dt <= 28:  \n",
    "            if dl == 1:  # 1回dl\n",
    "                if ic > 500:  \n",
    "                    return True\n",
    "                elif ic >= 300:  \n",
    "                    if dl == 0:  # dlなし\n",
    "                        return True\n",
    "                    else:  \n",
    "                        return False\n",
    "                else:  \n",
    "                    return False\n",
    "            else:  # dl１回以上\n",
    "                return False\n",
    "        else:  # 28％超える場合\n",
    "            if dl <= 1:  # １回か０回dl\n",
    "                if ic >= 300:  # 年収判断\n",
    "                    return True\n",
    "                else:  \n",
    "                    return False\n",
    "            else:  \n",
    "                return False\n",
    "\n",
    "# TEST\n",
    "dt = 18\n",
    "dl = 0\n",
    "ic = 440\n",
    "\n",
    "issueCC(dt, dl, ic)\n"
   ]
  },
  {
   "cell_type": "markdown",
   "id": "961bc256-7393-434c-89bd-32202fad9f11",
   "metadata": {},
   "source": [
    "## 課題5"
   ]
  },
  {
   "cell_type": "code",
   "execution_count": 18,
   "id": "bb5ee3f7-5422-449c-acc8-58f852a46464",
   "metadata": {},
   "outputs": [
    {
     "data": {
      "text/plain": [
       "(3, 1, 37)"
      ]
     },
     "execution_count": 18,
     "metadata": {},
     "output_type": "execute_result"
    }
   ],
   "source": [
    "def calculator(a, op, b):\n",
    "    \n",
    "    if op == '+':\n",
    "        return a + b\n",
    "    elif op == '-':\n",
    "        return a - b\n",
    "    elif op == '*':\n",
    "        return a * b\n",
    "    elif op == '/':\n",
    "        return a // b  \n",
    "    else:\n",
    "        raise ValueError(\"opは'+', '-', '*', '/'を入力してください\")\n",
    "\n",
    "\n",
    "calculator(1, \"+\", 2), calculator(3, \"/\", 2), calculator(calculator(3, \"*\", 10), \"+\", 7)\n",
    "\n",
    "\n"
   ]
  },
  {
   "cell_type": "code",
   "execution_count": null,
   "id": "03913397-f826-43b8-a898-c560917e87c7",
   "metadata": {},
   "outputs": [],
   "source": []
  }
 ],
 "metadata": {
  "kernelspec": {
   "display_name": "Python 3 (ipykernel)",
   "language": "python",
   "name": "python3"
  },
  "language_info": {
   "codemirror_mode": {
    "name": "ipython",
    "version": 3
   },
   "file_extension": ".py",
   "mimetype": "text/x-python",
   "name": "python",
   "nbconvert_exporter": "python",
   "pygments_lexer": "ipython3",
   "version": "3.11.7"
  }
 },
 "nbformat": 4,
 "nbformat_minor": 5
}
