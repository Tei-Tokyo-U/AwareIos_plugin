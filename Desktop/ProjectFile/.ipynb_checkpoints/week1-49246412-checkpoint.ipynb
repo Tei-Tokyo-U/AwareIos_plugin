{
 "cells": [
  {
   "cell_type": "code",
   "execution_count": 4,
   "id": "4df5f89e-4112-4f43-81d8-f9fba501acc5",
   "metadata": {},
   "outputs": [
    {
     "name": "stdout",
     "output_type": "stream",
     "text": [
      "  1  2  3  4  5  6  7  8  9\n",
      "  2  4  6  8 10 12 14 16 18\n",
      "  3  6  9 12 15 18 21 24 27\n",
      "  4  8 12 16 20 24 28 32 36\n",
      "  5 10 15 20 25 30 35 40 45\n",
      "  6 12 18 24 30 36 42 48 54\n",
      "  7 14 21 28 35 42 49 56 63\n",
      "  8 16 24 32 40 48 56 64 72\n",
      "  9 18 27 36 45 54 63 72 81\n"
     ]
    }
   ],
   "source": [
    "for i in range(1, 10):\n",
    "    for j in range(1, 10):\n",
    "        print(\" {0:2d}\".format(i*j), end=\"\")\n",
    "    print()"
   ]
  },
  {
   "cell_type": "code",
   "execution_count": 7,
   "id": "6d2874d3-b316-47e7-8fe9-826bf3b88e51",
   "metadata": {},
   "outputs": [
    {
     "name": "stdout",
     "output_type": "stream",
     "text": [
      "トレーニング始め!\n",
      "腕立て\n",
      "腹筋\n",
      "腕立て\n",
      "腹筋\n",
      "(5 分休憩)\n",
      "トレーニング始め!\n",
      "腕立て\n",
      "腹筋\n",
      "腕立て\n",
      "腹筋\n",
      "(5 分休憩)\n",
      "トレーニング始め!\n",
      "腕立て\n",
      "腹筋\n",
      "腕立て\n",
      "腹筋\n",
      "(5 分休憩)\n"
     ]
    }
   ],
   "source": [
    "for i in range(3):\n",
    "    print(\"トレーニング始め!\")\n",
    "    print(\"腕立て\\n腹筋\\n腕立て\\n腹筋\\n(5 分休憩)\")"
   ]
  },
  {
   "cell_type": "code",
   "execution_count": 8,
   "id": "8c19dbf0-eb0c-4a85-ab27-945dc4f47a3d",
   "metadata": {},
   "outputs": [
    {
     "name": "stdout",
     "output_type": "stream",
     "text": [
      "*****\n",
      "****\n",
      "***\n",
      "**\n",
      "*\n",
      "******\n",
      "*****\n",
      "****\n",
      "***\n",
      "**\n",
      "*\n"
     ]
    }
   ],
   "source": [
    "def print_triangle(size):\n",
    "    for i in range(size, 0, -1):\n",
    "        print('*' * i)\n",
    "print_triangle(5)\n",
    "print_triangle(6)"
   ]
  },
  {
   "cell_type": "code",
   "execution_count": 10,
   "id": "7c424edd-c770-4d11-9ba0-6a558f7599c2",
   "metadata": {},
   "outputs": [
    {
     "name": "stdout",
     "output_type": "stream",
     "text": [
      "   *\n",
      "  ***\n",
      " *****\n",
      "*******\n",
      "   *\n",
      "   *\n",
      "   *\n",
      "     *\n",
      "    ***\n",
      "   *****\n",
      "  *******\n",
      " *********\n",
      "***********\n",
      "     *\n",
      "     *\n",
      "     *\n",
      "     *\n",
      "     *\n",
      "       *\n",
      "      ***\n",
      "     *****\n",
      "    *******\n",
      "   *********\n",
      "  ***********\n",
      " *************\n",
      "***************\n",
      "       *\n",
      "       *\n",
      "       *\n",
      "       *\n",
      "       *\n",
      "       *\n",
      "       *\n",
      "        *\n",
      "       ***\n",
      "      *****\n",
      "     *******\n",
      "    *********\n",
      "   ***********\n",
      "  *************\n",
      " ***************\n",
      "*****************\n",
      "        *\n",
      "        *\n",
      "        *\n",
      "        *\n",
      "        *\n",
      "        *\n",
      "        *\n",
      "        *\n"
     ]
    }
   ],
   "source": [
    "def print_arrow(N):\n",
    "    for i in range(N + 1):\n",
    "        print(' ' * (N - i) + '*' * (2 * i + 1))\n",
    "    for j in range(N):\n",
    "        print(' ' * N + '*')\n",
    "for a in [3, 5, 7, 8]:\n",
    "    print_arrow(a)"
   ]
  },
  {
   "cell_type": "code",
   "execution_count": 15,
   "id": "ef1be39a-956c-4d97-bdff-51661bc496a3",
   "metadata": {},
   "outputs": [
    {
     "name": "stdout",
     "output_type": "stream",
     "text": [
      "   *        *            *               *        \n",
      "  ***      ***          ***             ***       \n",
      " *****    *****        *****           *****      \n",
      "   *     *******      *******         *******     \n",
      "   *    *********    *********       *********    \n",
      "   *        *       ***********     ***********   \n",
      "   *        *      *************   *************  \n",
      "            *            *        *************** \n",
      "            *            *               *        \n",
      "            *            *               *        \n",
      "            *            *               *        \n",
      "                         *               *        \n",
      "                         *               *        \n",
      "                         *               *        \n",
      "                         *               *        \n",
      "                                         *        \n",
      "                                         *        \n"
     ]
    }
   ],
   "source": [
    "def print_mori(sizes):\n",
    "    max_height = max(sizes) * 2 + 1  # 高さ\n",
    "    for row in range(max_height):\n",
    "        for size in sizes:\n",
    "            if row < size:  # 上部\n",
    "                print(' ' * (size - row) + '*' * (2 * row + 1) + ' ' * (size - row), end='')\n",
    "            elif row < size * 2 + 1:  # 下部\n",
    "                print(' ' * size + '*' + ' ' * size, end='')\n",
    "            else:\n",
    "                print(' ' * (2 * size + 1), end='')  # スペース\n",
    "        print()  \n",
    "        \n",
    "sizes = [3, 5, 7, 8]\n",
    "print_mori(sizes)"
   ]
  },
  {
   "cell_type": "code",
   "execution_count": null,
   "id": "4ee62694-903f-423b-972f-72960e3b7ae2",
   "metadata": {},
   "outputs": [],
   "source": []
  }
 ],
 "metadata": {
  "kernelspec": {
   "display_name": "Python 3 (ipykernel)",
   "language": "python",
   "name": "python3"
  },
  "language_info": {
   "codemirror_mode": {
    "name": "ipython",
    "version": 3
   },
   "file_extension": ".py",
   "mimetype": "text/x-python",
   "name": "python",
   "nbconvert_exporter": "python",
   "pygments_lexer": "ipython3",
   "version": "3.11.7"
  }
 },
 "nbformat": 4,
 "nbformat_minor": 5
}
