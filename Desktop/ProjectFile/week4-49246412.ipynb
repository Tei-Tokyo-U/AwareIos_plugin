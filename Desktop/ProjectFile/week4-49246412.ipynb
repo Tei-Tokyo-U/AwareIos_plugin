{
 "cells": [
  {
   "cell_type": "markdown",
   "id": "f626d55e",
   "metadata": {},
   "source": [
    "# 第４回課題"
   ]
  },
  {
   "cell_type": "markdown",
   "id": "fe056e03",
   "metadata": {},
   "source": [
    "## 課題１"
   ]
  },
  {
   "cell_type": "code",
   "execution_count": 5,
   "id": "3e41d536",
   "metadata": {},
   "outputs": [
    {
     "name": "stdout",
     "output_type": "stream",
     "text": [
      "Lucky numbers 66 : [7, 14, 16, 21, 25, 28, 34, 35, 42, 43, 49, 52, 56, 59, 61, 63]\n"
     ]
    }
   ],
   "source": [
    "def digit_sum(n):\n",
    "    return sum(int(digit) for digit in str(n))\n",
    "\n",
    "def lucky_array(n):\n",
    "    a = [False] * n\n",
    "\n",
    "    for i in range(1, n):\n",
    "        if i % 7 == 0 or digit_sum(i) % 7 == 0:\n",
    "            a[i] = True\n",
    "\n",
    "    return a\n",
    "\n",
    "def print_lucky_numbers(n):\n",
    "    # 出力を読みやすくすると\n",
    "    lucky_numbers = []\n",
    "    lucky_results = lucky_array(n)\n",
    "    for i in range(1, len(lucky_results)):\n",
    "        if lucky_results[i]:\n",
    "            lucky_numbers.append(i)\n",
    "    print(\"Lucky numbers\", n, \":\", lucky_numbers)\n",
    "\n",
    "# テスト\n",
    "print_lucky_numbers(66)\n"
   ]
  },
  {
   "cell_type": "markdown",
   "id": "c8a41c28",
   "metadata": {},
   "source": [
    "## 課題２"
   ]
  },
  {
   "cell_type": "code",
   "execution_count": 8,
   "id": "ab0365cd",
   "metadata": {},
   "outputs": [
    {
     "name": "stdout",
     "output_type": "stream",
     "text": [
      "Primes 30: [2, 3, 5, 7, 11, 13, 17, 19, 23, 29]\n"
     ]
    }
   ],
   "source": [
    "import math\n",
    "\n",
    "def prime_array(n):\n",
    "    if n <= 2:\n",
    "        return [False] * n  # nが2以下の場合\n",
    "\n",
    "    # 素数候補として初期化。最初は全てTrueとする。\n",
    "    is_prime = [True] * n\n",
    "    is_prime[0] = is_prime[1] = False  # 0と1は素数ではない\n",
    "\n",
    "    # 2から√nまでの各数について篩を行う\n",
    "    for start in range(2, math.isqrt(n) + 1):\n",
    "        if is_prime[start]:  # startが素数の場合、その倍数を除外する\n",
    "            for multiple in range(start*start, n, start):\n",
    "                is_prime[multiple] = False\n",
    "\n",
    "    return is_prime\n",
    "\n",
    "def print_primes(n):\n",
    "    is_prime = prime_array(n)\n",
    "    primes = [i for i, prime in enumerate(is_prime) if prime]\n",
    "    print(f\"Primes {n}: {primes}\")\n",
    "\n",
    "# テスト\n",
    "print_primes(30)\n"
   ]
  },
  {
   "cell_type": "markdown",
   "id": "b63dba58",
   "metadata": {},
   "source": [
    "## 課題３"
   ]
  },
  {
   "cell_type": "code",
   "execution_count": null,
   "id": "0efe6bd2",
   "metadata": {},
   "outputs": [],
   "source": [
    ">>> a = make2d(2,3) \n",
    ">>> a[0][0] = 1 \n",
    ">>> a[[1, 0, 0], [0, 0, 0]]\n",
    "\n",
    ">>> a = [[0]*3]*2 \n",
    ">>> a[[0, 0, 0], [0, 0, 0]] # 一見，二次元配列 \n",
    ">>> a[0][0] = 1\n",
    ">>> a[[1, 0, 0], [1, 0, 0]] # 2 箇所変更されている\n",
    "\n",
    "# 原因として、[0, 0, 0]を二重コピーしただけなので、a[0][0] = 1を変えると、コピーの方も変わる。"
   ]
  },
  {
   "cell_type": "markdown",
   "id": "1412c861",
   "metadata": {},
   "source": [
    "## 課題４"
   ]
  },
  {
   "cell_type": "code",
   "execution_count": 1,
   "id": "962e842b",
   "metadata": {},
   "outputs": [
    {
     "name": "stdout",
     "output_type": "stream",
     "text": [
      "[1, 2, 3, 6]\n",
      "[4, 5, 6, 15]\n",
      "[7, 8, 9, 24]\n",
      "[12, 15, 18, 45]\n"
     ]
    }
   ],
   "source": [
    "def extend_sum(a):\n",
    "    rows = len(a)\n",
    "    cols = len(a[0])\n",
    "    # 行\n",
    "    row_sums = [sum(row) for row in a]\n",
    "    # 列\n",
    "    col_sums = [sum(a[row][col] for row in range(rows)) for col in range(cols)]\n",
    "    # 全体\n",
    "    total_sum = sum(row_sums)\n",
    "    # 新しい配列\n",
    "    extended_a = []\n",
    "    for i in range(rows):\n",
    "        extended_a.append(a[i][:] + [row_sums[i]])\n",
    "\n",
    "    extended_a.append(col_sums + [total_sum])\n",
    "    \n",
    "    return extended_a\n",
    "\n",
    "# テスト\n",
    "a = [\n",
    "    [1, 2, 3],\n",
    "    [4, 5, 6],\n",
    "    [7, 8, 9]\n",
    "]\n",
    "\n",
    "result = extend_sum(a)\n",
    "for row in result:\n",
    "    print(row)\n"
   ]
  },
  {
   "cell_type": "markdown",
   "id": "2a409576",
   "metadata": {},
   "source": [
    "## 課題５"
   ]
  },
  {
   "cell_type": "code",
   "execution_count": 4,
   "id": "5ca30dbf",
   "metadata": {},
   "outputs": [
    {
     "data": {
      "image/png": "[encoded data removed]",
      "text/plain": [
       "<Figure size 500x500 with 1 Axes>"
      ]
     },
     "metadata": {},
     "output_type": "display_data"
    },
    {
     "data": {
      "image/png": "[encoded data removed]",
      "text/plain": [
       "<Figure size 500x500 with 1 Axes>"
      ]
     },
     "metadata": {},
     "output_type": "display_data"
    }
   ],
   "source": [
    "#　新しい生命周期を得るための関数\n",
    "def update_board(board):\n",
    "    # 形の獲得\n",
    "    rows, cols = board.shape\n",
    "    # 次の状態の保存用\n",
    "    new_board = np.zeros((rows, cols), dtype=int)\n",
    "    \n",
    "    # 値を知る\n",
    "    for i in range(rows):\n",
    "        for j in range(cols):\n",
    "            live_neighbors = (board[(i-1) % rows, (j-1) % cols] +\n",
    "                              board[(i-1) % rows, j] +\n",
    "                              board[(i-1) % rows, (j+1) % cols] +\n",
    "                              board[i, (j-1) % cols] +\n",
    "                              board[i, (j+1) % cols] +\n",
    "                              board[(i+1) % rows, (j-1) % cols] +\n",
    "                              board[(i+1) % rows, j] +\n",
    "                              board[(i+1) % rows, (j+1) % cols])\n",
    "            \n",
    "            # 次の生死を決める\n",
    "            if board[i, j] == 1:\n",
    "                if live_neighbors < 2 or live_neighbors > 3:\n",
    "                    new_board[i, j] = 0  # 死\n",
    "                else:\n",
    "                    new_board[i, j] = 1  # 生\n",
    "            else:\n",
    "                if live_neighbors == 3:\n",
    "                    new_board[i, j] = 1  # 诞生、他は変わらないのだ\n",
    "            \n",
    "    return new_board\n",
    "\n",
    "#　図を書く関数\n",
    "def plot_board(board, title=\"life game\"):\n",
    "    cmap = ListedColormap(['white', 'black'])\n",
    "    plt.figure(figsize=(5, 5))\n",
    "    plt.imshow(board, cmap=cmap, aspect='equal')\n",
    "    plt.xticks([]), plt.yticks([])\n",
    "    plt.title(title)\n",
    "    plt.show()\n",
    "\n",
    "# 初期化をランダム\n",
    "initial_board = np.random.randint(0, 2, (5, 5))\n",
    "\n",
    "# 次の状態\n",
    "new_board = update_board(initial_board)\n",
    "\n",
    "# 図を書く、文字配列でのOutputもできるがこの方がわかりやすいと思って。\n",
    "plot_board(initial_board, \"Initial field\")\n",
    "plot_board(new_board, \"Next field\")\n"
   ]
  },
  {
   "cell_type": "markdown",
   "id": "205afb09",
   "metadata": {},
   "source": [
    "## 課題６"
   ]
  },
  {
   "cell_type": "code",
   "execution_count": 1,
   "id": "8652a1ee",
   "metadata": {},
   "outputs": [
    {
     "name": "stderr",
     "output_type": "stream",
     "text": [
      "MovieWriter ffmpeg unavailable; using Pillow instead.\n"
     ]
    },
    {
     "ename": "ValueError",
     "evalue": "unknown file extension: .mp4",
     "output_type": "error",
     "traceback": [
      "\u001b[0;31m---------------------------------------------------------------------------\u001b[0m",
      "\u001b[0;31mKeyError\u001b[0m                                  Traceback (most recent call last)",
      "File \u001b[0;32m/opt/anaconda3/lib/python3.11/site-packages/PIL/Image.py:2416\u001b[0m, in \u001b[0;36mImage.save\u001b[0;34m(self, fp, format, **params)\u001b[0m\n\u001b[1;32m   2415\u001b[0m \u001b[38;5;28;01mtry\u001b[39;00m:\n\u001b[0;32m-> 2416\u001b[0m     \u001b[38;5;28mformat\u001b[39m \u001b[38;5;241m=\u001b[39m EXTENSION[ext]\n\u001b[1;32m   2417\u001b[0m \u001b[38;5;28;01mexcept\u001b[39;00m \u001b[38;5;167;01mKeyError\u001b[39;00m \u001b[38;5;28;01mas\u001b[39;00m e:\n",
      "\u001b[0;31mKeyError\u001b[0m: '.mp4'",
      "\nThe above exception was the direct cause of the following exception:\n",
      "\u001b[0;31mValueError\u001b[0m                                Traceback (most recent call last)",
      "Cell \u001b[0;32mIn[1], line 70\u001b[0m\n\u001b[1;32m     68\u001b[0m \u001b[38;5;66;03m# 定义文件路径\u001b[39;00m\n\u001b[1;32m     69\u001b[0m file_path \u001b[38;5;241m=\u001b[39m \u001b[38;5;124m\"\u001b[39m\u001b[38;5;124m/Users/tei/Desktop/ProjectFile/Game_of_Life_Animation.mp4\u001b[39m\u001b[38;5;124m\"\u001b[39m\n\u001b[0;32m---> 70\u001b[0m animate_and_save(\u001b[38;5;241m10\u001b[39m, file_path)\n",
      "Cell \u001b[0;32mIn[1], line 66\u001b[0m, in \u001b[0;36manimate_and_save\u001b[0;34m(steps, filepath)\u001b[0m\n\u001b[1;32m     64\u001b[0m ani \u001b[38;5;241m=\u001b[39m animation\u001b[38;5;241m.\u001b[39mFuncAnimation(fig, update, frames\u001b[38;5;241m=\u001b[39msteps, blit\u001b[38;5;241m=\u001b[39m\u001b[38;5;28;01mTrue\u001b[39;00m, interval\u001b[38;5;241m=\u001b[39m\u001b[38;5;241m500\u001b[39m, repeat\u001b[38;5;241m=\u001b[39m\u001b[38;5;28;01mFalse\u001b[39;00m)\n\u001b[1;32m     65\u001b[0m plt\u001b[38;5;241m.\u001b[39maxis(\u001b[38;5;124m'\u001b[39m\u001b[38;5;124moff\u001b[39m\u001b[38;5;124m'\u001b[39m)\n\u001b[0;32m---> 66\u001b[0m ani\u001b[38;5;241m.\u001b[39msave(filepath, writer\u001b[38;5;241m=\u001b[39m\u001b[38;5;124m'\u001b[39m\u001b[38;5;124mffmpeg\u001b[39m\u001b[38;5;124m'\u001b[39m, dpi\u001b[38;5;241m=\u001b[39m\u001b[38;5;241m300\u001b[39m)\n",
      "File \u001b[0;32m/opt/anaconda3/lib/python3.11/site-packages/matplotlib/animation.py:1089\u001b[0m, in \u001b[0;36mAnimation.save\u001b[0;34m(self, filename, writer, fps, dpi, codec, bitrate, extra_args, metadata, extra_anim, savefig_kwargs, progress_callback)\u001b[0m\n\u001b[1;32m   1085\u001b[0m savefig_kwargs[\u001b[38;5;124m'\u001b[39m\u001b[38;5;124mtransparent\u001b[39m\u001b[38;5;124m'\u001b[39m] \u001b[38;5;241m=\u001b[39m \u001b[38;5;28;01mFalse\u001b[39;00m   \u001b[38;5;66;03m# just to be safe!\u001b[39;00m\n\u001b[1;32m   1086\u001b[0m \u001b[38;5;66;03m# canvas._is_saving = True makes the draw_event animation-starting\u001b[39;00m\n\u001b[1;32m   1087\u001b[0m \u001b[38;5;66;03m# callback a no-op; canvas.manager = None prevents resizing the GUI\u001b[39;00m\n\u001b[1;32m   1088\u001b[0m \u001b[38;5;66;03m# widget (both are likewise done in savefig()).\u001b[39;00m\n\u001b[0;32m-> 1089\u001b[0m \u001b[38;5;28;01mwith\u001b[39;00m writer\u001b[38;5;241m.\u001b[39msaving(\u001b[38;5;28mself\u001b[39m\u001b[38;5;241m.\u001b[39m_fig, filename, dpi), \\\n\u001b[1;32m   1090\u001b[0m      cbook\u001b[38;5;241m.\u001b[39m_setattr_cm(\u001b[38;5;28mself\u001b[39m\u001b[38;5;241m.\u001b[39m_fig\u001b[38;5;241m.\u001b[39mcanvas, _is_saving\u001b[38;5;241m=\u001b[39m\u001b[38;5;28;01mTrue\u001b[39;00m, manager\u001b[38;5;241m=\u001b[39m\u001b[38;5;28;01mNone\u001b[39;00m):\n\u001b[1;32m   1091\u001b[0m     \u001b[38;5;28;01mfor\u001b[39;00m anim \u001b[38;5;129;01min\u001b[39;00m all_anim:\n\u001b[1;32m   1092\u001b[0m         anim\u001b[38;5;241m.\u001b[39m_init_draw()  \u001b[38;5;66;03m# Clear the initial frame\u001b[39;00m\n",
      "File \u001b[0;32m/opt/anaconda3/lib/python3.11/contextlib.py:144\u001b[0m, in \u001b[0;36m_GeneratorContextManager.__exit__\u001b[0;34m(self, typ, value, traceback)\u001b[0m\n\u001b[1;32m    142\u001b[0m \u001b[38;5;28;01mif\u001b[39;00m typ \u001b[38;5;129;01mis\u001b[39;00m \u001b[38;5;28;01mNone\u001b[39;00m:\n\u001b[1;32m    143\u001b[0m     \u001b[38;5;28;01mtry\u001b[39;00m:\n\u001b[0;32m--> 144\u001b[0m         \u001b[38;5;28mnext\u001b[39m(\u001b[38;5;28mself\u001b[39m\u001b[38;5;241m.\u001b[39mgen)\n\u001b[1;32m    145\u001b[0m     \u001b[38;5;28;01mexcept\u001b[39;00m \u001b[38;5;167;01mStopIteration\u001b[39;00m:\n\u001b[1;32m    146\u001b[0m         \u001b[38;5;28;01mreturn\u001b[39;00m \u001b[38;5;28;01mFalse\u001b[39;00m\n",
      "File \u001b[0;32m/opt/anaconda3/lib/python3.11/site-packages/matplotlib/animation.py:245\u001b[0m, in \u001b[0;36mAbstractMovieWriter.saving\u001b[0;34m(self, fig, outfile, dpi, *args, **kwargs)\u001b[0m\n\u001b[1;32m    243\u001b[0m     \u001b[38;5;28;01myield\u001b[39;00m \u001b[38;5;28mself\u001b[39m\n\u001b[1;32m    244\u001b[0m \u001b[38;5;28;01mfinally\u001b[39;00m:\n\u001b[0;32m--> 245\u001b[0m     \u001b[38;5;28mself\u001b[39m\u001b[38;5;241m.\u001b[39mfinish()\n",
      "File \u001b[0;32m/opt/anaconda3/lib/python3.11/site-packages/matplotlib/animation.py:515\u001b[0m, in \u001b[0;36mPillowWriter.finish\u001b[0;34m(self)\u001b[0m\n\u001b[1;32m    514\u001b[0m \u001b[38;5;28;01mdef\u001b[39;00m \u001b[38;5;21mfinish\u001b[39m(\u001b[38;5;28mself\u001b[39m):\n\u001b[0;32m--> 515\u001b[0m     \u001b[38;5;28mself\u001b[39m\u001b[38;5;241m.\u001b[39m_frames[\u001b[38;5;241m0\u001b[39m]\u001b[38;5;241m.\u001b[39msave(\n\u001b[1;32m    516\u001b[0m         \u001b[38;5;28mself\u001b[39m\u001b[38;5;241m.\u001b[39moutfile, save_all\u001b[38;5;241m=\u001b[39m\u001b[38;5;28;01mTrue\u001b[39;00m, append_images\u001b[38;5;241m=\u001b[39m\u001b[38;5;28mself\u001b[39m\u001b[38;5;241m.\u001b[39m_frames[\u001b[38;5;241m1\u001b[39m:],\n\u001b[1;32m    517\u001b[0m         duration\u001b[38;5;241m=\u001b[39m\u001b[38;5;28mint\u001b[39m(\u001b[38;5;241m1000\u001b[39m \u001b[38;5;241m/\u001b[39m \u001b[38;5;28mself\u001b[39m\u001b[38;5;241m.\u001b[39mfps), loop\u001b[38;5;241m=\u001b[39m\u001b[38;5;241m0\u001b[39m)\n",
      "File \u001b[0;32m/opt/anaconda3/lib/python3.11/site-packages/PIL/Image.py:2419\u001b[0m, in \u001b[0;36mImage.save\u001b[0;34m(self, fp, format, **params)\u001b[0m\n\u001b[1;32m   2417\u001b[0m     \u001b[38;5;28;01mexcept\u001b[39;00m \u001b[38;5;167;01mKeyError\u001b[39;00m \u001b[38;5;28;01mas\u001b[39;00m e:\n\u001b[1;32m   2418\u001b[0m         msg \u001b[38;5;241m=\u001b[39m \u001b[38;5;124mf\u001b[39m\u001b[38;5;124m\"\u001b[39m\u001b[38;5;124munknown file extension: \u001b[39m\u001b[38;5;132;01m{\u001b[39;00mext\u001b[38;5;132;01m}\u001b[39;00m\u001b[38;5;124m\"\u001b[39m\n\u001b[0;32m-> 2419\u001b[0m         \u001b[38;5;28;01mraise\u001b[39;00m \u001b[38;5;167;01mValueError\u001b[39;00m(msg) \u001b[38;5;28;01mfrom\u001b[39;00m \u001b[38;5;21;01me\u001b[39;00m\n\u001b[1;32m   2421\u001b[0m \u001b[38;5;28;01mif\u001b[39;00m \u001b[38;5;28mformat\u001b[39m\u001b[38;5;241m.\u001b[39mupper() \u001b[38;5;129;01mnot\u001b[39;00m \u001b[38;5;129;01min\u001b[39;00m SAVE:\n\u001b[1;32m   2422\u001b[0m     init()\n",
      "\u001b[0;31mValueError\u001b[0m: unknown file extension: .mp4"
     ]
    },
    {
     "data": {
      "image/png": "[encoded data removed]",
      "text/plain": [
       "<Figure size 640x480 with 1 Axes>"
      ]
     },
     "metadata": {},
     "output_type": "display_data"
    }
   ],
   "source": [
    "import matplotlib.animation as animation\n",
    "import numpy as np\n",
    "import matplotlib.pyplot as plt\n",
    "from matplotlib.colors import ListedColormap\n",
    "\n",
    "#　新しい生命周期を得るための関数\n",
    "def update_board(board):\n",
    "    # 形の獲得\n",
    "    rows, cols = board.shape\n",
    "    # 次の状態の保存用\n",
    "    new_board = np.zeros((rows, cols), dtype=int)\n",
    "    \n",
    "    # 値を知る\n",
    "    for i in range(rows):\n",
    "        for j in range(cols):\n",
    "            live_neighbors = (board[(i-1) % rows, (j-1) % cols] +\n",
    "                              board[(i-1) % rows, j] +\n",
    "                              board[(i-1) % rows, (j+1) % cols] +\n",
    "                              board[i, (j-1) % cols] +\n",
    "                              board[i, (j+1) % cols] +\n",
    "                              board[(i+1) % rows, (j-1) % cols] +\n",
    "                              board[(i+1) % rows, j] +\n",
    "                              board[(i+1) % rows, (j+1) % cols])\n",
    "            \n",
    "            # 次の生死を決める\n",
    "            if board[i, j] == 1:\n",
    "                if live_neighbors < 2 or live_neighbors > 3:\n",
    "                    new_board[i, j] = 0  # 死\n",
    "                else:\n",
    "                    new_board[i, j] = 1  # 生\n",
    "            else:\n",
    "                if live_neighbors == 3:\n",
    "                    new_board[i, j] = 1  # 诞生、他は変わらないのだ\n",
    "            \n",
    "    return new_board\n",
    "\n",
    "#　図を書く関数\n",
    "def plot_board(board, title=\"life game\"):\n",
    "    cmap = ListedColormap(['white', 'black'])\n",
    "    plt.figure(figsize=(5, 5))\n",
    "    plt.imshow(board, cmap=cmap, aspect='equal')\n",
    "    plt.xticks([]), plt.yticks([])\n",
    "    plt.title(title)\n",
    "    plt.show()\n",
    "\n",
    "# 初期化をランダム\n",
    "initial_board = np.random.randint(0, 2, (5, 5))\n",
    "\n",
    "# 次の状態\n",
    "new_board = update_board(initial_board)\n",
    "\n",
    "def animate_and_save(steps, filepath):\n",
    "    board = np.random.randint(0, 2, (5, 5))\n",
    "    fig, ax = plt.subplots()\n",
    "    cmap = ListedColormap(['white', 'black'])\n",
    "    mat = ax.matshow(board, cmap=cmap)\n",
    "\n",
    "    def update(frame):\n",
    "        nonlocal board\n",
    "        board = update_board(board)\n",
    "        mat.set_data(board)\n",
    "        return [mat]\n",
    "\n",
    "    ani = animation.FuncAnimation(fig, update, frames=steps, blit=True, interval=500, repeat=False)\n",
    "    plt.axis('off')\n",
    "    ani.save(filepath, writer='ffmpeg', dpi=300)\n",
    "\n",
    "\n",
    "file_path = \"/Users/tei/Desktop/ProjectFile/Game_of_Life_Animation.mp4\"\n",
    "animate_and_save(10, file_path)\n"
   ]
  },
  {
   "cell_type": "markdown",
   "id": "22f0fdcf",
   "metadata": {},
   "source": [
    "## 課題７"
   ]
  }
 ],
 "metadata": {
  "kernelspec": {
   "display_name": "Python 3 (ipykernel)",
   "language": "python",
   "name": "python3"
  },
  "language_info": {
   "codemirror_mode": {
    "name": "ipython",
    "version": 3
   },
   "file_extension": ".py",
   "mimetype": "text/x-python",
   "name": "python",
   "nbconvert_exporter": "python",
   "pygments_lexer": "ipython3",
   "version": "3.11.7"
  }
 },
 "nbformat": 4,
 "nbformat_minor": 5
}
