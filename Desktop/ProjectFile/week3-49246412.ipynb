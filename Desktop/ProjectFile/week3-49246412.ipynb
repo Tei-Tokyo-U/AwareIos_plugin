{
 "cells": [
  {
   "cell_type": "markdown",
   "id": "7817813d",
   "metadata": {},
   "source": [
    "# 第３回課題"
   ]
  },
  {
   "cell_type": "markdown",
   "id": "b3db1f5c",
   "metadata": {},
   "source": [
    "## 課題１"
   ]
  },
  {
   "cell_type": "code",
   "execution_count": null,
   "id": "9e8fe817",
   "metadata": {},
   "outputs": [],
   "source": [
    "def in_rectangle(w, h, x, y, r):\n",
    "    left = x - r\n",
    "    right = x + r\n",
    "    bottom = y - r\n",
    "    top = y + r\n",
    "    \n",
    "    # 条件\n",
    "    if left >= 0 and right <= w and bottom >= 0 and top <= h:\n",
    "        return True\n",
    "    else:\n",
    "        return False\n",
    "\n",
    "# 例 先週すでにテストケース書いたので、そのまま移りました\n",
    "in_rectangle(10, 10, 5, 5, 4)"
   ]
  },
  {
   "cell_type": "markdown",
   "id": "5175efb7",
   "metadata": {},
   "source": [
    "## 課題２"
   ]
  },
  {
   "cell_type": "code",
   "execution_count": 3,
   "id": "9b80327f",
   "metadata": {},
   "outputs": [
    {
     "data": {
      "text/plain": [
       "22"
      ]
     },
     "execution_count": 3,
     "metadata": {},
     "output_type": "execute_result"
    }
   ],
   "source": [
    "def score(a):\n",
    "    # 最大値と最小値を抜く\n",
    "    a.remove(max(a))\n",
    "    a.remove(min(a))\n",
    "    return sum(a)\n",
    "\n",
    "# TEST\n",
    "test_scores = [1, 3, 5, 7, 9, 7]\n",
    "score(test_scores)  # 最大値9、最小値1を除き、3+5+7+7 = 22"
   ]
  },
  {
   "cell_type": "markdown",
   "id": "b3f962a4",
   "metadata": {},
   "source": [
    "## 課題３"
   ]
  },
  {
   "cell_type": "code",
   "execution_count": 4,
   "id": "37f5d32a",
   "metadata": {},
   "outputs": [
    {
     "data": {
      "text/plain": [
       "32"
      ]
     },
     "execution_count": 4,
     "metadata": {},
     "output_type": "execute_result"
    }
   ],
   "source": [
    "def digit_sum(n):\n",
    "    # nをstrに変え、digだけを計算\n",
    "    return sum(int(digit) for digit in str(n))\n",
    "\n",
    "# TEST\n",
    "digit_sum(1235678)  # 1+2+3+5+6+7+8 = 32"
   ]
  },
  {
   "cell_type": "markdown",
   "id": "82359974",
   "metadata": {},
   "source": [
    "## 課題４"
   ]
  },
  {
   "cell_type": "code",
   "execution_count": 5,
   "id": "1db04295",
   "metadata": {},
   "outputs": [
    {
     "data": {
      "text/plain": [
       "[1, 2, 3, 4, 6, 8, 9, 12, 16, 18, 24, 36, 48, 72, 144]"
      ]
     },
     "execution_count": 5,
     "metadata": {},
     "output_type": "execute_result"
    }
   ],
   "source": [
    "def factor(n):\n",
    "    factors = []\n",
    "    # 1からnまでの数でnを割り、あまりのない数字をAppend\n",
    "    for i in range(1, n + 1):\n",
    "        if n % i == 0:\n",
    "            factors.append(i)\n",
    "    return factors\n",
    "\n",
    "# TEST\n",
    "factor(144)"
   ]
  },
  {
   "cell_type": "markdown",
   "id": "6bcc0bc7",
   "metadata": {},
   "source": [
    "## 課題５"
   ]
  },
  {
   "cell_type": "code",
   "execution_count": 15,
   "id": "d072c883",
   "metadata": {},
   "outputs": [
    {
     "name": "stdout",
     "output_type": "stream",
     "text": [
      "['ZHGYLI', 'ENAON1']\n"
     ]
    }
   ],
   "source": [
    "def decrypt2(s):\n",
    "    a, b = \"\", \"\"\n",
    "    # 4文字ずつ取り出し（肝心）、最初は12番、と34番\n",
    "    for i in range(0, len(s), 4):\n",
    "        a += s[i:i+2]\n",
    "        b += s[i+2:i+4]\n",
    "    return [a, b]\n",
    "\n",
    "# TEST\n",
    "test_string = \"ZHENGYAOLIN1\"\n",
    "result = decrypt2(test_string)  # [\"ZHGYLI\", \"ENAON1\"] を期待\n",
    "print(result)\n"
   ]
  },
  {
   "cell_type": "markdown",
   "id": "e08e4fcc",
   "metadata": {},
   "source": [
    "## 課題６　問題の意味が理解できなかった。合ってるかどうかコメントお願いします！"
   ]
  },
  {
   "cell_type": "code",
   "execution_count": 19,
   "id": "9f3eb4ec",
   "metadata": {},
   "outputs": [
    {
     "name": "stdout",
     "output_type": "stream",
     "text": [
      "OK\n"
     ]
    }
   ],
   "source": [
    "def erase_ta(x):\n",
    "    # replaceを使わないですよね\n",
    "    result = \"\"\n",
    "    i = 0\n",
    "    while i < len(x):\n",
    "        if i <= len(x) - 2 and x[i:i+2] == \"ta\":\n",
    "            # skip 2文字\n",
    "            i += 2\n",
    "        else:\n",
    "            # 合ってるなら追加\n",
    "            result += x[i]\n",
    "            i += 1\n",
    "    return result\n",
    "\n",
    "def test_erase_ta():\n",
    "    # そのまま使いました\n",
    "    assert erase_ta(\"fight\") == \"fight\"\n",
    "    assert erase_ta(\"aa\") == \"aa\"\n",
    "    assert erase_ta(\"at\") == \"at\"\n",
    "    assert erase_ta(\"bt\") == \"bt\"\n",
    "    assert erase_ta(\"tb\") == \"tb\"\n",
    "    assert erase_ta(\"ta\") == \"\"\n",
    "    assert erase_ta(\"xyz\") == \"xyz\"\n",
    "    assert erase_ta(\"ttaa\") == \"ta\"\n",
    "    \n",
    "    print(\"OK\")\n",
    "\n",
    "test_erase_ta()"
   ]
  },
  {
   "cell_type": "code",
   "execution_count": null,
   "id": "7d2f30dc",
   "metadata": {},
   "outputs": [],
   "source": []
  }
 ],
 "metadata": {
  "kernelspec": {
   "display_name": "Python 3 (ipykernel)",
   "language": "python",
   "name": "python3"
  },
  "language_info": {
   "codemirror_mode": {
    "name": "ipython",
    "version": 3
   },
   "file_extension": ".py",
   "mimetype": "text/x-python",
   "name": "python",
   "nbconvert_exporter": "python",
   "pygments_lexer": "ipython3",
   "version": "3.11.7"
  }
 },
 "nbformat": 4,
 "nbformat_minor": 5
}
